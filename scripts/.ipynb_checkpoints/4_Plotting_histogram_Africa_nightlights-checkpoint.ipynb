{
 "cells": [
  {
   "cell_type": "markdown",
   "metadata": {},
   "source": [
    "# Africa nightlights histogram\n",
    "In this notebook, we'll plot histograms of the nightlights distribution in Africa to determine how we should split our classes."
   ]
  },
  {
   "cell_type": "code",
   "execution_count": 25,
   "metadata": {
    "collapsed": true
   },
   "outputs": [],
   "source": [
    "import numpy as np\n",
    "import time\n",
    "import matplotlib.pyplot as plt\n",
    "from PIL import Image\n",
    "from neal_utils import *\n",
    "from jake_utils import check_batch_within_africa_jake\n",
    "import glob\n",
    "from osgeo import gdal, osr"
   ]
  },
  {
   "cell_type": "code",
   "execution_count": 26,
   "metadata": {
    "collapsed": false
   },
   "outputs": [
    {
     "name": "stdout",
     "output_type": "stream",
     "text": [
      "The autoreload extension is already loaded. To reload it, use:\n",
      "  %reload_ext autoreload\n"
     ]
    }
   ],
   "source": [
    "%matplotlib inline\n",
    "%load_ext autoreload\n",
    "%autoreload 2"
   ]
  },
  {
   "cell_type": "markdown",
   "metadata": {},
   "source": [
    "#### Combining data and saving into one file"
   ]
  },
  {
   "cell_type": "code",
   "execution_count": 27,
   "metadata": {
    "collapsed": true
   },
   "outputs": [],
   "source": [
    "tile2_fn = '/atlas/u/nj/viirs/2015/data/africa_nl/tile2_africa_nl.npy'\n",
    "tile2_nl = np.load(tile2_fn)\n",
    "tile5_fn = '/atlas/u/nj/viirs/2015/data/africa_nl/tile5_africa_nl.npy'\n",
    "tile5_nl = np.load(tile5_fn)"
   ]
  },
  {
   "cell_type": "code",
   "execution_count": 28,
   "metadata": {
    "collapsed": false
   },
   "outputs": [
    {
     "name": "stdout",
     "output_type": "stream",
     "text": [
      "(144311147,)\n"
     ]
    }
   ],
   "source": [
    "# Save into combined file\n",
    "africa_nl = np.hstack((tile2_nl, tile5_nl))\n",
    "print africa_nl.shape\n",
    "africa_nl_fn = '/atlas/u/nj/viirs/2015/data/africa_nl/africa_nl.npy'\n",
    "np.save(africa_nl_fn, africa_nl)"
   ]
  },
  {
   "cell_type": "markdown",
   "metadata": {},
   "source": [
    "#### Loading all Africa nightlights"
   ]
  },
  {
   "cell_type": "code",
   "execution_count": 29,
   "metadata": {
    "collapsed": true
   },
   "outputs": [],
   "source": [
    "africa_nl = np.load(africa_nl_fn)"
   ]
  },
  {
   "cell_type": "code",
   "execution_count": 30,
   "metadata": {
    "collapsed": false
   },
   "outputs": [
    {
     "data": {
      "text/plain": [
       "(144311147,)"
      ]
     },
     "execution_count": 30,
     "metadata": {},
     "output_type": "execute_result"
    }
   ],
   "source": [
    "africa_nl.shape"
   ]
  },
  {
   "cell_type": "code",
   "execution_count": 31,
   "metadata": {
    "collapsed": false
   },
   "outputs": [
    {
     "data": {
      "text/plain": [
       "(array([  1.33846900e+06,   2.51721000e+05,   1.14527000e+05,\n",
       "          6.75240000e+04,   4.46280000e+04,   3.13720000e+04,\n",
       "          2.28450000e+04,   1.74780000e+04,   1.37760000e+04,\n",
       "          1.05660000e+04,   8.57600000e+03,   7.18500000e+03,\n",
       "          5.97800000e+03,   4.96300000e+03,   4.37300000e+03,\n",
       "          3.75300000e+03,   3.13900000e+03,   2.76800000e+03,\n",
       "          2.44100000e+03,   2.15000000e+03,   1.81400000e+03,\n",
       "          1.66000000e+03,   1.43400000e+03,   1.30500000e+03,\n",
       "          1.14100000e+03,   1.12800000e+03,   9.61000000e+02,\n",
       "          8.09000000e+02,   7.10000000e+02,   6.23000000e+02]),\n",
       " array([  1.00000001,   4.29999668,   7.59999335,  10.89999003,\n",
       "         14.1999867 ,  17.49998337,  20.79998004,  24.09997672,\n",
       "         27.39997339,  30.69997006,  33.99996673,  37.29996341,\n",
       "         40.59996008,  43.89995675,  47.19995342,  50.4999501 ,\n",
       "         53.79994677,  57.09994344,  60.39994011,  63.69993679,\n",
       "         66.99993346,  70.29993013,  73.5999268 ,  76.89992348,\n",
       "         80.19992015,  83.49991682,  86.79991349,  90.09991016,\n",
       "         93.39990684,  96.69990351,  99.99990018]),\n",
       " <a list of 30 Patch objects>)"
      ]
     },
     "execution_count": 31,
     "metadata": {},
     "output_type": "execute_result"
    },
    {
     "data": {
      "image/png": "[encoded data removed]",
      "text/plain": [
       "<matplotlib.figure.Figure at 0x7fd4c5f05c50>"
      ]
     },
     "metadata": {},
     "output_type": "display_data"
    }
   ],
   "source": [
    "plt.hist(africa_nl[np.logical_and((africa_nl > 1), (africa_nl <= 100))], bins=30)\n"
   ]
  },
  {
   "cell_type": "code",
   "execution_count": 15,
   "metadata": {
    "collapsed": false
   },
   "outputs": [
    {
     "data": {
      "image/png": "[encoded data removed]",
      "text/plain": [
       "<matplotlib.figure.Figure at 0x7fd4c5f445d0>"
      ]
     },
     "metadata": {},
     "output_type": "display_data"
    }
   ],
   "source": [
    "plt.hist(np.log(tile5_nl[tile5_nl > 0]), bins = 30)\n",
    "plt.show()"
   ]
  },
  {
   "cell_type": "code",
   "execution_count": 20,
   "metadata": {
    "collapsed": true
   },
   "outputs": [],
   "source": [
    "A = np.load('/atlas/u/nj/viirs/2015/data/tile2_obs.npy')"
   ]
  },
  {
   "cell_type": "code",
   "execution_count": 22,
   "metadata": {
    "collapsed": false
   },
   "outputs": [
    {
     "data": {
      "text/plain": [
       "22051420.117066275"
      ]
     },
     "execution_count": 22,
     "metadata": {},
     "output_type": "execute_result"
    }
   ],
   "source": [
    "A[A > 100].sum()"
   ]
  },
  {
   "cell_type": "code",
   "execution_count": 23,
   "metadata": {
    "collapsed": true
   },
   "outputs": [],
   "source": [
    "B = A > 100"
   ]
  },
  {
   "cell_type": "code",
   "execution_count": 24,
   "metadata": {
    "collapsed": false
   },
   "outputs": [
    {
     "data": {
      "text/plain": [
       "(18000, 28800)"
      ]
     },
     "execution_count": 24,
     "metadata": {},
     "output_type": "execute_result"
    }
   ],
   "source": [
    "B.shape"
   ]
  },
  {
   "cell_type": "code",
   "execution_count": null,
   "metadata": {
    "collapsed": true
   },
   "outputs": [],
   "source": []
  }
 ],
 "metadata": {
  "kernelspec": {
   "display_name": "Python 2",
   "language": "python",
   "name": "python2"
  },
  "language_info": {
   "codemirror_mode": {
    "name": "ipython",
    "version": 2
   },
   "file_extension": ".py",
   "mimetype": "text/x-python",
   "name": "python",
   "nbconvert_exporter": "python",
   "pygments_lexer": "ipython2",
   "version": "2.7.11"
  }
 },
 "nbformat": 4,
 "nbformat_minor": 0
}
