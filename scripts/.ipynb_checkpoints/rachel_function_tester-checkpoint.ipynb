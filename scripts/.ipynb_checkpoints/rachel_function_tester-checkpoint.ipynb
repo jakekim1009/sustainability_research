{
 "cells": [
  {
   "cell_type": "code",
   "execution_count": 1,
   "metadata": {
    "collapsed": false
   },
   "outputs": [
    {
     "name": "stderr",
     "output_type": "stream",
     "text": [
      "/atlas/software/cluster/anaconda/lib/python2.7/site-packages/matplotlib/font_manager.py:273: UserWarning: Matplotlib is building the font cache using fc-list. This may take a moment.\n",
      "  warnings.warn('Matplotlib is building the font cache using fc-list. This may take a moment.')\n"
     ]
    }
   ],
   "source": [
    "import numpy as np\n",
    "import matplotlib as mpl\n",
    "import matplotlib.pyplot as plt\n",
    "from rachel_utils_working import *\n",
    "\n",
    "%matplotlib inline\n",
    "plt.rcParams['figure.figsize'] = (10.0, 8.0) # set default size of plots\n",
    "plt.rcParams['image.interpolation'] = 'nearest'\n",
    "plt.rcParams['image.cmap'] = 'gray'\n",
    "\n",
    "# for auto-reloading external modules\n",
    "# see http://stackoverflow.com/questions/1907993/autoreload-of-modules-in-ipython\n",
    "%load_ext autoreload\n",
    "%autoreload 2"
   ]
  },
  {
   "cell_type": "code",
   "execution_count": 2,
   "metadata": {
    "collapsed": false
   },
   "outputs": [
    {
     "name": "stdout",
     "output_type": "stream",
     "text": [
      "(array([[ 2.92857143,  2.92857143,  2.92857143,  2.92857143],\n",
      "       [ 2.92857143,  2.92857143,  2.92857143,  2.92857143],\n",
      "       [ 2.92857143,  2.92857143,  2.92857143,  2.92857143],\n",
      "       [ 2.92857143,  2.92857143,  2.92857143,  2.92857143]]), array([[ 14.,  14.,  14.,  14.],\n",
      "       [ 14.,  14.,  14.,  14.],\n",
      "       [ 14.,  14.,  14.,  14.],\n",
      "       [ 14.,  14.,  14.,  14.]]))\n"
     ]
    },
    {
     "data": {
      "text/plain": [
       "'\\nnum_months = month_avgs.shape[2]\\nyear_avgs = np.zeros(obs_count[:,:,0].shape)\\n\\nfor i in range(num_months):\\n    year_avgs += month_avgs[:, :, i] * obs_count[:, :, i]\\n\\nyear_avgs /= np.sum(obs_count, axis=2)\\nprint year_avgs\\n'"
      ]
     },
     "execution_count": 2,
     "metadata": {},
     "output_type": "execute_result"
    }
   ],
   "source": [
    "# Test the get_year_avg function\n",
    "\n",
    "my_month_avgs = np.ones((4, 4, 12))\n",
    "my_month_avgs[:,:,0] = 10\n",
    "my_obs_count = np.ones((4, 4, 12))\n",
    "my_obs_count[:,:,0] = 3\n",
    "\n",
    "my_year_avgs = get_year_avg(my_month_avgs, my_obs_count);\n",
    "print my_year_avgs\n",
    "\n",
    "\"\"\"\n",
    "num_months = month_avgs.shape[2]\n",
    "year_avgs = np.zeros(obs_count[:,:,0].shape)\n",
    "\n",
    "for i in range(num_months):\n",
    "    year_avgs += month_avgs[:, :, i] * obs_count[:, :, i]\n",
    "\n",
    "year_avgs /= np.sum(obs_count, axis=2)\n",
    "print year_avgs\n",
    "\"\"\""
   ]
  },
  {
   "cell_type": "code",
   "execution_count": 3,
   "metadata": {
    "collapsed": false
   },
   "outputs": [
    {
     "name": "stdout",
     "output_type": "stream",
     "text": [
      "(1.0, 1.0, 1.0)\n"
     ]
    },
    {
     "data": {
      "image/png": "[encoded data removed]",
      "text/plain": [
       "<matplotlib.figure.Figure at 0x7f67fc273d90>"
      ]
     },
     "metadata": {},
     "output_type": "display_data"
    }
   ],
   "source": [
    "# Test the plot_histogram function\n",
    "\n",
    "night_ints = np.ones(5)\n",
    "stats = plot_histogram(night_ints)\n",
    "print stats"
   ]
  },
  {
   "cell_type": "code",
   "execution_count": 5,
   "metadata": {
    "collapsed": false
   },
   "outputs": [
    {
     "name": "stdout",
     "output_type": "stream",
     "text": [
      "This function took  36.020416  seconds.\n"
     ]
    }
   ],
   "source": [
    "# Test the sample_images function\n",
    "\n",
    "class_bounds = [-1e5, 0.001, 0.01, 0.1, 0.2, 0.5, 1, 5, 10, 30, 1e5]\n",
    "#class_bounds = [-1e5, 100, 1e10]\n",
    "\n",
    "start = time.clock()\n",
    "my_samples = sample_images(5, class_bounds)\n",
    "end = time.clock()\n",
    "my_time = end - start\n",
    "\n",
    "print 'This function took ', my_time, ' seconds.'"
   ]
  },
  {
   "cell_type": "code",
   "execution_count": null,
   "metadata": {
    "collapsed": true
   },
   "outputs": [],
   "source": [
    "# Test the sample_images_within_class function\n",
    "\n",
    "class_bounds = [-1e5, 4, 15, 200, 1e5]\n",
    "\n",
    "start = time.clock()\n",
    "my_samples = sample_images_within_class(5, class_bounds)\n",
    "end = time.clock()\n",
    "my_time = end - start\n",
    "\n",
    "print 'This function took ', my_time, ' seconds.'"
   ]
  },
  {
   "cell_type": "code",
   "execution_count": null,
   "metadata": {
    "collapsed": false
   },
   "outputs": [],
   "source": [
    "A = np.load('/atlas/u/nj/viirs/2015/data/africa_nl/africa_nl.npy')\n",
    "A.shape\n",
    "(A > 200).sum()"
   ]
  },
  {
   "cell_type": "code",
   "execution_count": 22,
   "metadata": {
    "collapsed": false
   },
   "outputs": [],
   "source": [
    "testing = np.array([1, 5, 10, 30])\n",
    "my_test = testing[testing > 9]"
   ]
  },
  {
   "cell_type": "code",
   "execution_count": 23,
   "metadata": {
    "collapsed": false
   },
   "outputs": [
    {
     "data": {
      "text/plain": [
       "array([10, 30])"
      ]
     },
     "execution_count": 23,
     "metadata": {},
     "output_type": "execute_result"
    }
   ],
   "source": [
    "my_test"
   ]
  },
  {
   "cell_type": "code",
   "execution_count": 17,
   "metadata": {
    "collapsed": true
   },
   "outputs": [],
   "source": [
    "my_test = testing > 0"
   ]
  },
  {
   "cell_type": "code",
   "execution_count": 18,
   "metadata": {
    "collapsed": false
   },
   "outputs": [
    {
     "name": "stdout",
     "output_type": "stream",
     "text": [
      "True\n"
     ]
    }
   ],
   "source": [
    "print my_test"
   ]
  },
  {
   "cell_type": "code",
   "execution_count": 29,
   "metadata": {
    "collapsed": false
   },
   "outputs": [],
   "source": [
    "my_list = [y for y in range(5)]"
   ]
  },
  {
   "cell_type": "code",
   "execution_count": 30,
   "metadata": {
    "collapsed": false
   },
   "outputs": [
    {
     "data": {
      "text/plain": [
       "[0, 1, 2, 3, 4]"
      ]
     },
     "execution_count": 30,
     "metadata": {},
     "output_type": "execute_result"
    }
   ],
   "source": [
    "my_list"
   ]
  },
  {
   "cell_type": "code",
   "execution_count": 31,
   "metadata": {
    "collapsed": true
   },
   "outputs": [],
   "source": [
    "my_list.extend([x for x in range(3)])"
   ]
  },
  {
   "cell_type": "code",
   "execution_count": 32,
   "metadata": {
    "collapsed": false
   },
   "outputs": [
    {
     "data": {
      "text/plain": [
       "[0, 1, 2, 3, 4, 0, 1, 2]"
      ]
     },
     "execution_count": 32,
     "metadata": {},
     "output_type": "execute_result"
    }
   ],
   "source": [
    "my_list"
   ]
  },
  {
   "cell_type": "code",
   "execution_count": null,
   "metadata": {
    "collapsed": true
   },
   "outputs": [],
   "source": []
  }
 ],
 "metadata": {
  "kernelspec": {
   "display_name": "Python 2",
   "language": "python",
   "name": "python2"
  },
  "language_info": {
   "codemirror_mode": {
    "name": "ipython",
    "version": 2
   },
   "file_extension": ".py",
   "mimetype": "text/x-python",
   "name": "python",
   "nbconvert_exporter": "python",
   "pygments_lexer": "ipython2",
   "version": "2.7.11"
  }
 },
 "nbformat": 4,
 "nbformat_minor": 0
}
