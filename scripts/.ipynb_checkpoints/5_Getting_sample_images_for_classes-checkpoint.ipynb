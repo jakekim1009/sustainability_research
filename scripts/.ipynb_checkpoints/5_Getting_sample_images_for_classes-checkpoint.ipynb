{
 "cells": [
  {
   "cell_type": "markdown",
   "metadata": {},
   "source": [
    "# Getting sample images\n",
    "In this notebook, we'll download some number of images from each proposed nightlights class to see if we did a good job choosing class boundaries."
   ]
  },
  {
   "cell_type": "code",
   "execution_count": 1,
   "metadata": {
    "collapsed": true
   },
   "outputs": [],
   "source": [
    "import numpy as np\n",
    "import time\n",
    "from neal_utils import *\n",
    "import matplotlib.pyplot as plt"
   ]
  },
  {
   "cell_type": "code",
   "execution_count": 2,
   "metadata": {
    "collapsed": true
   },
   "outputs": [],
   "source": [
    "%matplotlib inline\n",
    "%load_ext autoreload\n",
    "%autoreload 2"
   ]
  },
  {
   "cell_type": "markdown",
   "metadata": {},
   "source": [
    "#### Testing functions\n",
    "To do this, I'm going to write a function to sample images that are within a certain nightlights range and save them into a folder. I'll test all of the helper functions that are needed here."
   ]
  },
  {
   "cell_type": "code",
   "execution_count": 10,
   "metadata": {
    "collapsed": false,
    "scrolled": true
   },
   "outputs": [
    {
     "name": "stdout",
     "output_type": "stream",
     "text": [
      "(18000, 28800)\n",
      "(15600, 28800)\n"
     ]
    }
   ],
   "source": [
    "# Load NL values\n",
    "nl_tile2 = np.load('/atlas/u/nj/viirs/2015/data/tile2_obs.npy')\n",
    "nl_tile5 = np.load('/atlas/u/nj/viirs/2015/data/tile5_obs.npy')\n",
    "print nl_tile2.shape\n",
    "print nl_tile5.shape"
   ]
  },
  {
   "cell_type": "code",
   "execution_count": 19,
   "metadata": {
    "collapsed": true
   },
   "outputs": [],
   "source": [
    "# Set lower and upper bounds\n",
    "nl_min = 200\n",
    "nl_max = 10000000"
   ]
  },
  {
   "cell_type": "code",
   "execution_count": 20,
   "metadata": {
    "collapsed": false
   },
   "outputs": [
    {
     "name": "stdout",
     "output_type": "stream",
     "text": [
      "17978\n"
     ]
    }
   ],
   "source": [
    "# Find out how many points are within range\n",
    "num_within = (np.logical_and((nl_tile2 >= nl_min), (nl_tile2 < nl_max)).sum() +\n",
    "              np.logical_and((nl_tile5 >= nl_min), (nl_tile5 < nl_max)).sum())\n",
    "print num_within"
   ]
  },
  {
   "cell_type": "code",
   "execution_count": 32,
   "metadata": {
    "collapsed": true
   },
   "outputs": [],
   "source": [
    "# Find good locations in tiles (row, col)\n",
    "within_locs2 = np.array(np.where(np.logical_and((nl_tile2 >= nl_min), (nl_tile2 < nl_max)))).T\n",
    "within_locs5 = np.array(np.where(np.logical_and((nl_tile5 >= nl_min), (nl_tile5 < nl_max)))).T"
   ]
  },
  {
   "cell_type": "code",
   "execution_count": 33,
   "metadata": {
    "collapsed": false
   },
   "outputs": [
    {
     "name": "stdout",
     "output_type": "stream",
     "text": [
      "(16670, 2)\n",
      "(1308, 2)\n"
     ]
    }
   ],
   "source": [
    "print within_locs2.shape\n",
    "print within_locs5.shape"
   ]
  },
  {
   "cell_type": "code",
   "execution_count": 36,
   "metadata": {
    "collapsed": true
   },
   "outputs": [],
   "source": [
    "# Convert to lists of pixel pairs (x, y) or (col, row)\n",
    "within_pixel_pairs2 = [(x, y) for y, x in within_locs2]\n",
    "within_pixel_pairs5 = [(x, y) for y, x in within_locs5]"
   ]
  },
  {
   "cell_type": "code",
   "execution_count": 37,
   "metadata": {
    "collapsed": true
   },
   "outputs": [],
   "source": [
    "# Convert to lat/lon arrays\n",
    "tile2_tif = '/atlas/u/nj/viirs/2015/1/2/SVDNB_npp_20150101-20150131_75N060W_vcmcfg_v10_c201505111709.avg_rade9.tif'\n",
    "tile5_tif = '/atlas/u/nj/viirs/2015/1/5/SVDNB_npp_20150101-20150131_00N060W_vcmcfg_v10_c201505111709.avg_rade9.tif'\n",
    "lat_lon_pairs2 = pixel_to_lat_lon(tile2_tif, within_pixel_pairs2)\n",
    "lat_lon_pairs5 = pixel_to_lat_lon(tile5_tif, within_pixel_pairs5)\n",
    "lats2, lons2 = convert_latlon_pairs_to_arrays(lat_lon_pairs2)\n",
    "lats5, lons5 = convert_latlon_pairs_to_arrays(lat_lon_pairs5)"
   ]
  },
  {
   "cell_type": "code",
   "execution_count": 38,
   "metadata": {
    "collapsed": true
   },
   "outputs": [],
   "source": [
    "# Check if lat/lons are in Africa\n",
    "within2 = check_batch_within_africa(lats2, lons2)\n",
    "within5 = check_batch_within_africa(lats5, lons5)"
   ]
  },
  {
   "cell_type": "code",
   "execution_count": 44,
   "metadata": {
    "collapsed": false
   },
   "outputs": [
    {
     "name": "stdout",
     "output_type": "stream",
     "text": [
      "2440\n",
      "241\n"
     ]
    }
   ],
   "source": [
    "print within2.sum()\n",
    "print within5.sum()"
   ]
  },
  {
   "cell_type": "code",
   "execution_count": 49,
   "metadata": {
    "collapsed": false
   },
   "outputs": [],
   "source": [
    "# Make a list of lat/lons [(lat1, lon1), (lat2, lon2)]\n",
    "within_lats2 = lats2[within2]\n",
    "within_lons2 = lons2[within2]\n",
    "within_lats5 = lats5[within5]\n",
    "within_lons5 = lons5[within5]"
   ]
  },
  {
   "cell_type": "code",
   "execution_count": null,
   "metadata": {
    "collapsed": true
   },
   "outputs": [],
   "source": []
  }
 ],
 "metadata": {
  "kernelspec": {
   "display_name": "Python 2",
   "language": "python",
   "name": "python2"
  },
  "language_info": {
   "codemirror_mode": {
    "name": "ipython",
    "version": 2
   },
   "file_extension": ".py",
   "mimetype": "text/x-python",
   "name": "python",
   "nbconvert_exporter": "python",
   "pygments_lexer": "ipython2",
   "version": "2.7.11"
  }
 },
 "nbformat": 4,
 "nbformat_minor": 0
}
