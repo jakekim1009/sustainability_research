{
 "cells": [
  {
   "cell_type": "code",
   "execution_count": null,
   "metadata": {
    "collapsed": false
   },
   "outputs": [],
   "source": [
    "import numpy as np\n",
    "import time\n",
    "from osgeo import gdal, osr\n",
    "from jake_utils import *\n",
    "\n",
    "tile2dir = '../../cs231nproject/SVDNB_npp_20151201-20151231_75N060W_vcmcfg_v10_c201601251413.avg_rade9.tif'\n",
    "tile5dir = '../../cs231nproject/SVDNB_npp_20151201-20151231_00N060W_vcmcfg_v10_c201601251413.avg_rade9.tif'\n",
    "tile2ds = gdal.Open(tile2dir)\n",
    "tile2array = np.array(tile2ds.GetRasterBand(1).ReadAsArray())\n",
    "tile5ds = gdal.Open(tile5dir)\n",
    "tile5array = np.array(tile5ds.GetRasterBand(1).ReadAsArray())\n",
    "\n",
    "print \"Checkpoint - opening tiles done\"\n",
    "tile2PixelPairs = []\n",
    "for i in range(tile2array.shape[0]):\n",
    "    for j in range(tile2array.shape[1]):\n",
    "        tile2PixelPairs.append([i,j])\n",
    "tile5PixelPairs = []\n",
    "for i in range(tile5array.shape[0]):\n",
    "    for j in range(tile5array.shape[1]):\n",
    "        tile5PixelPairs.append([i,j])\n",
    "latLons = pixel_to_lat_lon(tile2dir,tile2PixelPairs) + pixel_to_lat_lon(tile5dir, tile5PixelPairs)\n",
    "lats, lons = convert_latlon_pairs_to_arrays(latons)\n",
    "print \"Checkpoint - making lat lon pairs done\"\n",
    "\n",
    "t0 = time.time()\n",
    "within = check_batch_within_africa_jake(lats, lons)\n",
    "t1 = time.time()\n",
    "print 'Checked {} points in {} seconds'.format(within.size, t1-t0)"
   ]
  },
  {
   "cell_type": "code",
   "execution_count": null,
   "metadata": {
    "collapsed": true
   },
   "outputs": [],
   "source": []
  }
 ],
 "metadata": {
  "kernelspec": {
   "display_name": "Python 2",
   "language": "python",
   "name": "python2"
  },
  "language_info": {
   "codemirror_mode": {
    "name": "ipython",
    "version": 2
   },
   "file_extension": ".py",
   "mimetype": "text/x-python",
   "name": "python",
   "nbconvert_exporter": "python",
   "pygments_lexer": "ipython2",
   "version": "2.7.11"
  }
 },
 "nbformat": 4,
 "nbformat_minor": 0
}
