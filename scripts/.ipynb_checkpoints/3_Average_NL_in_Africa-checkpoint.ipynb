{
 "cells": [
  {
   "cell_type": "markdown",
   "metadata": {},
   "source": [
    "# Average NL intensity\n",
    "In the notebook, we'll try to compute the average NL intensity in Africa for 2015."
   ]
  },
  {
   "cell_type": "code",
   "execution_count": 1,
   "metadata": {
    "collapsed": false
   },
   "outputs": [],
   "source": [
    "import numpy as np\n",
    "import time\n",
    "import matplotlib.pyplot as plt\n",
    "from PIL import Image\n",
    "from neal_utils import *\n",
    "import glob"
   ]
  },
  {
   "cell_type": "code",
   "execution_count": 2,
   "metadata": {
    "collapsed": true
   },
   "outputs": [],
   "source": [
    "%matplotlib inline\n",
    "%load_ext autoreload\n",
    "%autoreload 2"
   ]
  },
  {
   "cell_type": "markdown",
   "metadata": {},
   "source": [
    "#### Testing"
   ]
  },
  {
   "cell_type": "code",
   "execution_count": null,
   "metadata": {
    "collapsed": false
   },
   "outputs": [],
   "source": [
    "A = Image.open('/atlas/u/nj/viirs/2015/1/2/SVDNB_npp_20150101-20150131_75N060W_vcmcfg_v10_c201505111709.avg_rade9.tif')\n",
    "A_count = Image.open('/atlas/u/nj/viirs/2015/1/2/SVDNB_npp_20150101-20150131_75N060W_vcmcfg_v10_c201505111709.cf_cvg.tif')\n",
    "B = Image.open('/atlas/u/nj/viirs/2015/2/2/SVDNB_npp_20150201-20150228_75N060W_vcmcfg_v10_c201504281504.avg_rade9.tif')\n",
    "B_count = Image.open('/atlas/u/nj/viirs/2015/2/2/SVDNB_npp_20150201-20150228_75N060W_vcmcfg_v10_c201504281504.cf_cvg.tif')"
   ]
  },
  {
   "cell_type": "code",
   "execution_count": null,
   "metadata": {
    "collapsed": false
   },
   "outputs": [],
   "source": [
    "print A.size\n",
    "print A_count.size\n",
    "print B.size\n",
    "print B_count.size"
   ]
  },
  {
   "cell_type": "code",
   "execution_count": null,
   "metadata": {
    "collapsed": false
   },
   "outputs": [],
   "source": [
    "t0 = time.time()\n",
    "A = np.array(A)\n",
    "A_count = np.array(A_count)\n",
    "B = np.array(B)\n",
    "B_count = np.array(B_count)\n",
    "t1 = time.time()\n",
    "print 'Converted to arrays: {} seconds'.format(t1-t0)\n",
    "print A.shape\n",
    "print A_count.shape\n",
    "print B.shape\n",
    "print B_count.shape"
   ]
  },
  {
   "cell_type": "code",
   "execution_count": null,
   "metadata": {
    "collapsed": true
   },
   "outputs": [],
   "source": [
    "C = np.zeros((18000, 28800, 2))\n",
    "C_count = np.zeros((18000, 28800, 2))"
   ]
  },
  {
   "cell_type": "code",
   "execution_count": null,
   "metadata": {
    "collapsed": false
   },
   "outputs": [],
   "source": [
    "t0 = time.time()\n",
    "C[:,:,0] = A\n",
    "C[:,:,1] = B\n",
    "C_count[:,:,0] = A_count\n",
    "C_count[:,:,1] = B_count\n",
    "t1 = time.time()\n",
    "print 'Filling 3D arrays: {} seconds'.format(t1-t0)"
   ]
  },
  {
   "cell_type": "code",
   "execution_count": null,
   "metadata": {
    "collapsed": false
   },
   "outputs": [],
   "source": [
    "# Using Rachel's code to combine them\n",
    "t0 = time.time()\n",
    "D, D_count = get_year_avg(C, C_count)\n",
    "t1 = time.time()\n",
    "print 'Averaged observations: {} seconds'.format(t1-t0)"
   ]
  },
  {
   "cell_type": "code",
   "execution_count": null,
   "metadata": {
    "collapsed": false
   },
   "outputs": [],
   "source": [
    "np.save('/atlas/u/nj/viirs/test.npy', D)\n",
    "np.save('/atlas/u/nj/viirs/test_counts.npy', D_count)"
   ]
  },
  {
   "cell_type": "markdown",
   "metadata": {},
   "source": [
    "### Averaging VIIRS data\n",
    "Now that we know how to do what we want to do, let's write some code to go through the directories and average the observations for all 6 tiles over all 12 months. We'll average two months at a time since we know that works."
   ]
  },
  {
   "cell_type": "code",
   "execution_count": null,
   "metadata": {
    "collapsed": true
   },
   "outputs": [],
   "source": [
    "data_dir = '/atlas/u/nj/viirs/2015/'"
   ]
  },
  {
   "cell_type": "code",
   "execution_count": null,
   "metadata": {
    "collapsed": false
   },
   "outputs": [],
   "source": [
    "t0 = time.time()\n",
    "for tile in xrange(3,7):\n",
    "    print 'Starting tile {}: {} seconds'.format(tile, time.time() - t0)\n",
    "    for month in xrange(1, 13):\n",
    "        print '  Starting month {}: {} seconds'.format(month, time.time() - t0)\n",
    "        # If January, set running averages and counts to January data\n",
    "        if month == 1:\n",
    "            for fn in glob.glob(data_dir + str(month) + '/' + str(tile) + '/*'):\n",
    "                if fn[-13:] == 'avg_rade9.tif':\n",
    "                    avg_obs = Image.open(fn)\n",
    "                    avg_obs = np.array(avg_obs)\n",
    "                elif fn[-10:] == 'cf_cvg.tif':\n",
    "                    total_counts = Image.open(fn)\n",
    "                    total_counts = np.array(total_counts)\n",
    "            print '    Loaded data for month {}: {} seconds'.format(month, time.time() - t0)\n",
    "            rows, cols = avg_obs.shape\n",
    "            print '      Rows: {}'.format(rows)\n",
    "            print '      Cols: {}'.format(cols)\n",
    "        # If any other month, average with previous observations and counts\n",
    "        else:\n",
    "            for fn in glob.glob(data_dir + str(month) + '/' + str(tile) + '/*'):\n",
    "                if fn[-13:] == 'avg_rade9.tif':\n",
    "                    month_obs = Image.open(fn)\n",
    "                    month_obs = np.array(month_obs)\n",
    "                elif fn[-10:] == 'cf_cvg.tif':\n",
    "                    month_counts = Image.open(fn)\n",
    "                    month_counts = np.array(month_counts)\n",
    "            print '    Loaded data for month {}: {} seconds'.format(month, time.time() - t0)\n",
    "            temp_obs = np.zeros((rows, cols, 2))\n",
    "            temp_counts = np.zeros((rows, cols, 2))\n",
    "            temp_obs[:,:,0] = avg_obs\n",
    "            temp_counts[:,:,0] = total_counts\n",
    "            temp_obs[:,:,1] = month_obs\n",
    "            temp_counts[:,:,1] = month_counts\n",
    "            avg_obs, total_counts = get_year_avg(temp_obs, temp_counts)\n",
    "            print '    Averaged observations for month {}: {} seconds'.format(month, time.time() - t0)\n",
    "    obs_fn = data_dir + 'tile' + str(tile) + '_obs.npy'\n",
    "    counts_fn = data_dir + 'tile' + str(tile) + '_counts.npy'\n",
    "    np.save(obs_fn, avg_obs)\n",
    "    print '  Saved observations for tile {}: {} seconds'.format(tile, time.time() - t0)\n",
    "    np.save(counts_fn, total_counts)\n",
    "    print '  Saved counts for tile {}: {} seconds'.format(tile, time.time() - t0)"
   ]
  },
  {
   "cell_type": "markdown",
   "metadata": {},
   "source": [
    "## Filter out points not in Africa\n",
    "In order to decide how many classes of nightlights we want to have, we want to filter out all the points that aren't in Africa and plot a histogram."
   ]
  },
  {
   "cell_type": "markdown",
   "metadata": {},
   "source": [
    "#### Tile 2\n",
    "Let's start with tile 2."
   ]
  },
  {
   "cell_type": "code",
   "execution_count": 11,
   "metadata": {
    "collapsed": false,
    "scrolled": true
   },
   "outputs": [
    {
     "name": "stdout",
     "output_type": "stream",
     "text": [
      "Rows: 18000\n",
      "Columns: 28800\n"
     ]
    }
   ],
   "source": [
    "# Load geotif\n",
    "geotif_addr = '/atlas/u/nj/viirs/2015/12/2/SVDNB_npp_20151201-20151231_75N060W_vcmcfg_v10_c201601251413.avg_rade9.tif'\n",
    "geotif = Image.open(geotif_addr)\n",
    "# Load averaged observations\n",
    "tile_obs_fn = '/atlas/u/nj/viirs/2015/data/tile2_obs.npy'\n",
    "tile_obs = np.load(tile_obs_fn)\n",
    "rows, cols = tile_obs.shape\n",
    "print 'Rows: {}'.format(rows)\n",
    "print 'Columns: {}'.format(cols)"
   ]
  },
  {
   "cell_type": "code",
   "execution_count": 4,
   "metadata": {
    "collapsed": false
   },
   "outputs": [
    {
     "ename": "SyntaxError",
     "evalue": "invalid syntax (<ipython-input-4-993a602c5382>, line 1)",
     "output_type": "error",
     "traceback": [
      "\u001b[1;36m  File \u001b[1;32m\"<ipython-input-4-993a602c5382>\"\u001b[1;36m, line \u001b[1;32m1\u001b[0m\n\u001b[1;33m    gdalinfo /atlas/u/nj/viirs/2015/1/2/SVDNB_npp_20150101-20150131_75N060W_vcmcfg_v10_c201505111709.avg_rade9.tif\u001b[0m\n\u001b[1;37m                                                                                                   ^\u001b[0m\n\u001b[1;31mSyntaxError\u001b[0m\u001b[1;31m:\u001b[0m invalid syntax\n"
     ]
    }
   ],
   "source": []
  },
  {
   "cell_type": "code",
   "execution_count": 14,
   "metadata": {
    "collapsed": false
   },
   "outputs": [],
   "source": [
    "# Produce list of pixel pairs\n",
    "pixel_pairs = make_pixel_pairs(tile_obs[:1000,:1000])"
   ]
  },
  {
   "cell_type": "code",
   "execution_count": 13,
   "metadata": {
    "collapsed": false
   },
   "outputs": [
    {
     "name": "stdout",
     "output_type": "stream",
     "text": [
      "GEOGCS[\"WGS 84\",\n",
      "    DATUM[\"WGS_1984\",\n",
      "        SPHEROID[\"WGS 84\",6378137,298.257223563,\n",
      "            AUTHORITY[\"EPSG\",\"7030\"]],\n",
      "        AUTHORITY[\"EPSG\",\"6326\"]],\n",
      "    PRIMEM[\"Greenwich\",0],\n",
      "    UNIT[\"degree\",0.0174532925199433],\n",
      "    AUTHORITY[\"EPSG\",\"4326\"]]\n",
      "Took 0.00492382049561 seconds\n"
     ]
    }
   ],
   "source": [
    "# Convert pixel pairs to lat/lon pairs\n",
    "t0 = time.time()\n",
    "lat_lon_pairs = pixel_to_lat_lon(geotif_addr, pixel_pairs)\n",
    "print 'Took {} seconds'.format(time.time() - t0)"
   ]
  },
  {
   "cell_type": "code",
   "execution_count": 8,
   "metadata": {
    "collapsed": false
   },
   "outputs": [
    {
     "data": {
      "text/plain": [
       "<osgeo.osr.CoordinateTransformation; proxy of None >"
      ]
     },
     "execution_count": 8,
     "metadata": {},
     "output_type": "execute_result"
    }
   ],
   "source": [
    "ct"
   ]
  },
  {
   "cell_type": "code",
   "execution_count": 9,
   "metadata": {
    "collapsed": false
   },
   "outputs": [
    {
     "ename": "NotImplementedError",
     "evalue": "Wrong number of arguments for overloaded function 'CoordinateTransformation_TransformPoint'.\n  Possible C/C++ prototypes are:\n    TransformPoint(OSRCoordinateTransformationShadow *,double [3])\n    TransformPoint(OSRCoordinateTransformationShadow *,double [3],double,double,double)\n",
     "output_type": "error",
     "traceback": [
      "\u001b[1;31m---------------------------------------------------------------------------\u001b[0m",
      "\u001b[1;31mNotImplementedError\u001b[0m                       Traceback (most recent call last)",
      "\u001b[1;32m<ipython-input-9-1651ac7394de>\u001b[0m in \u001b[0;36m<module>\u001b[1;34m()\u001b[0m\n\u001b[1;32m----> 1\u001b[1;33m \u001b[0mct\u001b[0m\u001b[1;33m.\u001b[0m\u001b[0mTransformPoint\u001b[0m\u001b[1;33m(\u001b[0m\u001b[1;33m)\u001b[0m\u001b[1;33m\u001b[0m\u001b[0m\n\u001b[0m",
      "\u001b[1;32m/atlas/software/cluster/anaconda/lib/python2.7/site-packages/osgeo/osr.pyc\u001b[0m in \u001b[0;36mTransformPoint\u001b[1;34m(self, *args)\u001b[0m\n\u001b[0;32m    802\u001b[0m         \u001b[0mTransformPoint\u001b[0m\u001b[1;33m(\u001b[0m\u001b[0mself\u001b[0m\u001b[1;33m,\u001b[0m \u001b[0mdouble\u001b[0m \u001b[0mx\u001b[0m\u001b[1;33m,\u001b[0m \u001b[0mdouble\u001b[0m \u001b[0my\u001b[0m\u001b[1;33m,\u001b[0m \u001b[0mdouble\u001b[0m \u001b[0mz\u001b[0m \u001b[1;33m=\u001b[0m \u001b[1;36m0.0\u001b[0m\u001b[1;33m)\u001b[0m\u001b[1;33m\u001b[0m\u001b[0m\n\u001b[0;32m    803\u001b[0m         \"\"\"\n\u001b[1;32m--> 804\u001b[1;33m         \u001b[1;32mreturn\u001b[0m \u001b[0m_osr\u001b[0m\u001b[1;33m.\u001b[0m\u001b[0mCoordinateTransformation_TransformPoint\u001b[0m\u001b[1;33m(\u001b[0m\u001b[0mself\u001b[0m\u001b[1;33m,\u001b[0m \u001b[1;33m*\u001b[0m\u001b[0margs\u001b[0m\u001b[1;33m)\u001b[0m\u001b[1;33m\u001b[0m\u001b[0m\n\u001b[0m\u001b[0;32m    805\u001b[0m \u001b[1;33m\u001b[0m\u001b[0m\n\u001b[0;32m    806\u001b[0m     \u001b[1;32mdef\u001b[0m \u001b[0mTransformPoints\u001b[0m\u001b[1;33m(\u001b[0m\u001b[0mself\u001b[0m\u001b[1;33m,\u001b[0m \u001b[1;33m*\u001b[0m\u001b[0margs\u001b[0m\u001b[1;33m)\u001b[0m\u001b[1;33m:\u001b[0m\u001b[1;33m\u001b[0m\u001b[0m\n",
      "\u001b[1;31mNotImplementedError\u001b[0m: Wrong number of arguments for overloaded function 'CoordinateTransformation_TransformPoint'.\n  Possible C/C++ prototypes are:\n    TransformPoint(OSRCoordinateTransformationShadow *,double [3])\n    TransformPoint(OSRCoordinateTransformationShadow *,double [3],double,double,double)\n"
     ]
    }
   ],
   "source": [
    "ct"
   ]
  },
  {
   "cell_type": "code",
   "execution_count": null,
   "metadata": {
    "collapsed": true
   },
   "outputs": [],
   "source": []
  },
  {
   "cell_type": "code",
   "execution_count": null,
   "metadata": {
    "collapsed": true
   },
   "outputs": [],
   "source": []
  },
  {
   "cell_type": "code",
   "execution_count": null,
   "metadata": {
    "collapsed": true
   },
   "outputs": [],
   "source": []
  },
  {
   "cell_type": "code",
   "execution_count": null,
   "metadata": {
    "collapsed": true
   },
   "outputs": [],
   "source": []
  },
  {
   "cell_type": "code",
   "execution_count": null,
   "metadata": {
    "collapsed": true
   },
   "outputs": [],
   "source": []
  },
  {
   "cell_type": "code",
   "execution_count": null,
   "metadata": {
    "collapsed": true
   },
   "outputs": [],
   "source": []
  }
 ],
 "metadata": {
  "kernelspec": {
   "display_name": "Python 2",
   "language": "python",
   "name": "python2"
  },
  "language_info": {
   "codemirror_mode": {
    "name": "ipython",
    "version": 2
   },
   "file_extension": ".py",
   "mimetype": "text/x-python",
   "name": "python",
   "nbconvert_exporter": "python",
   "pygments_lexer": "ipython2",
   "version": "2.7.11"
  }
 },
 "nbformat": 4,
 "nbformat_minor": 0
}
