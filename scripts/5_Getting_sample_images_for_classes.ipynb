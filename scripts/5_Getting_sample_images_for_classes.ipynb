{
 "cells": [
  {
   "cell_type": "markdown",
   "metadata": {},
   "source": [
    "# Getting sample images\n",
    "In this notebook, we'll download some number of images from each proposed nightlights class to see if we did a good job choosing class boundaries."
   ]
  },
  {
   "cell_type": "code",
   "execution_count": 104,
   "metadata": {
    "collapsed": true
   },
   "outputs": [],
   "source": [
    "import numpy as np\n",
    "import time\n",
    "from neal_utils import *\n",
    "import matplotlib.pyplot as plt\n",
    "from jake_utils import *"
   ]
  },
  {
   "cell_type": "code",
   "execution_count": 57,
   "metadata": {
    "collapsed": false
   },
   "outputs": [
    {
     "name": "stdout",
     "output_type": "stream",
     "text": [
      "The autoreload extension is already loaded. To reload it, use:\n",
      "  %reload_ext autoreload\n"
     ]
    }
   ],
   "source": [
    "%matplotlib inline\n",
    "%load_ext autoreload\n",
    "%autoreload 2"
   ]
  },
  {
   "cell_type": "markdown",
   "metadata": {},
   "source": [
    "#### Testing functions\n",
    "To do this, I'm going to write a function to sample images that are within a certain nightlights range and save them into a folder. I'll test all of the helper functions that are needed here."
   ]
  },
  {
   "cell_type": "code",
   "execution_count": 130,
   "metadata": {
    "collapsed": false
   },
   "outputs": [
    {
     "name": "stdout",
     "output_type": "stream",
     "text": [
      "20.0139820576\n"
     ]
    }
   ],
   "source": [
    "# Testing list making function\n",
    "nl_min = 500\n",
    "nl_max = 100000\n",
    "t0 = time.time()\n",
    "locs_list = find_locations_within_nl_range(nl_min, nl_max)\n",
    "t1 = time.time()\n",
    "print t1 - t0"
   ]
  },
  {
   "cell_type": "code",
   "execution_count": 131,
   "metadata": {
    "collapsed": false
   },
   "outputs": [
    {
     "name": "stdout",
     "output_type": "stream",
     "text": [
      "1189\n"
     ]
    }
   ],
   "source": [
    "print len(locs_list)"
   ]
  },
  {
   "cell_type": "code",
   "execution_count": 140,
   "metadata": {
    "collapsed": false,
    "scrolled": true
   },
   "outputs": [
    {
     "name": "stdout",
     "output_type": "stream",
     "text": [
      "Saved image 1: ../images/class_samples/4/0.jpg\n",
      "  0.699162006378 seconds elapsed\n",
      "Saved image 2: ../images/class_samples/4/1.jpg\n",
      "  1.26683592796 seconds elapsed\n",
      "Saved image 3: ../images/class_samples/4/2.jpg\n",
      "  1.90904402733 seconds elapsed\n",
      "Saved image 4: ../images/class_samples/4/3.jpg\n",
      "  2.48918390274 seconds elapsed\n",
      "Saved image 5: ../images/class_samples/4/4.jpg\n",
      "  3.16510987282 seconds elapsed\n",
      "Saved image 6: ../images/class_samples/4/5.jpg\n",
      "  3.91550683975 seconds elapsed\n",
      "Saved image 7: ../images/class_samples/4/6.jpg\n",
      "  4.64300990105 seconds elapsed\n",
      "Saved image 8: ../images/class_samples/4/7.jpg\n",
      "  5.18791294098 seconds elapsed\n",
      "Saved image 9: ../images/class_samples/4/8.jpg\n",
      "  5.88907599449 seconds elapsed\n",
      "Saved image 10: ../images/class_samples/4/9.jpg\n",
      "  6.50881481171 seconds elapsed\n",
      "Saved image 11: ../images/class_samples/4/10.jpg\n",
      "  7.09798002243 seconds elapsed\n",
      "Saved image 12: ../images/class_samples/4/11.jpg\n",
      "  7.71974897385 seconds elapsed\n",
      "Saved image 13: ../images/class_samples/4/12.jpg\n",
      "  8.52053284645 seconds elapsed\n",
      "Saved image 14: ../images/class_samples/4/13.jpg\n",
      "  9.24030590057 seconds elapsed\n",
      "Saved image 15: ../images/class_samples/4/14.jpg\n",
      "  9.8543009758 seconds elapsed\n",
      "Saved image 16: ../images/class_samples/4/15.jpg\n",
      "  10.5135939121 seconds elapsed\n",
      "Saved image 17: ../images/class_samples/4/16.jpg\n",
      "  11.0927579403 seconds elapsed\n",
      "Saved image 18: ../images/class_samples/4/17.jpg\n",
      "  11.7557148933 seconds elapsed\n",
      "Saved image 19: ../images/class_samples/4/18.jpg\n",
      "  12.3575248718 seconds elapsed\n",
      "Saved image 20: ../images/class_samples/4/19.jpg\n",
      "  13.1350669861 seconds elapsed\n",
      "Saved image 21: ../images/class_samples/4/20.jpg\n",
      "  13.9340779781 seconds elapsed\n",
      "Saved image 22: ../images/class_samples/4/21.jpg\n",
      "  14.6040098667 seconds elapsed\n",
      "Saved image 23: ../images/class_samples/4/22.jpg\n",
      "  15.2198979855 seconds elapsed\n",
      "Saved image 24: ../images/class_samples/4/23.jpg\n",
      "  16.1547129154 seconds elapsed\n",
      "Saved image 25: ../images/class_samples/4/24.jpg\n",
      "  16.834884882 seconds elapsed\n",
      "Saved image 26: ../images/class_samples/4/25.jpg\n",
      "  17.532574892 seconds elapsed\n",
      "Saved image 27: ../images/class_samples/4/26.jpg\n",
      "  18.2520740032 seconds elapsed\n",
      "Saved image 28: ../images/class_samples/4/27.jpg\n",
      "  18.8513848782 seconds elapsed\n",
      "Saved image 29: ../images/class_samples/4/28.jpg\n",
      "  19.5883219242 seconds elapsed\n",
      "Saved image 30: ../images/class_samples/4/29.jpg\n",
      "  20.2317519188 seconds elapsed\n",
      "Saved image 31: ../images/class_samples/4/30.jpg\n",
      "  20.8682899475 seconds elapsed\n",
      "Saved image 32: ../images/class_samples/4/31.jpg\n",
      "  21.4807009697 seconds elapsed\n",
      "Saved image 33: ../images/class_samples/4/32.jpg\n",
      "  22.1462168694 seconds elapsed\n",
      "Saved image 34: ../images/class_samples/4/33.jpg\n",
      "  22.868500948 seconds elapsed\n",
      "Saved image 35: ../images/class_samples/4/34.jpg\n",
      "  23.5366029739 seconds elapsed\n",
      "Saved image 36: ../images/class_samples/4/35.jpg\n",
      "  24.1621098518 seconds elapsed\n",
      "Saved image 37: ../images/class_samples/4/36.jpg\n",
      "  24.8634610176 seconds elapsed\n",
      "Saved image 38: ../images/class_samples/4/37.jpg\n",
      "  25.4568870068 seconds elapsed\n",
      "Saved image 39: ../images/class_samples/4/38.jpg\n",
      "  26.0879998207 seconds elapsed\n",
      "Saved image 40: ../images/class_samples/4/39.jpg\n",
      "  26.8098978996 seconds elapsed\n",
      "Saved image 41: ../images/class_samples/4/40.jpg\n",
      "  27.4286878109 seconds elapsed\n",
      "Saved image 42: ../images/class_samples/4/41.jpg\n",
      "  28.3100128174 seconds elapsed\n",
      "Saved image 43: ../images/class_samples/4/42.jpg\n",
      "  28.8838398457 seconds elapsed\n",
      "Saved image 44: ../images/class_samples/4/43.jpg\n",
      "  29.6092808247 seconds elapsed\n",
      "Saved image 45: ../images/class_samples/4/44.jpg\n",
      "  30.3729789257 seconds elapsed\n",
      "Saved image 46: ../images/class_samples/4/45.jpg\n",
      "  31.0928788185 seconds elapsed\n",
      "Saved image 47: ../images/class_samples/4/46.jpg\n",
      "  31.6708660126 seconds elapsed\n",
      "Saved image 48: ../images/class_samples/4/47.jpg\n",
      "  32.2917089462 seconds elapsed\n",
      "Saved image 49: ../images/class_samples/4/48.jpg\n",
      "  32.987432003 seconds elapsed\n",
      "Saved image 50: ../images/class_samples/4/49.jpg\n",
      "  33.6984388828 seconds elapsed\n",
      "Saved list of locations: 4307 locations left\n",
      "Saved 50 images in 34.0801978111 seconds\n"
     ]
    }
   ],
   "source": [
    "# Testing image sampling in NL range\n",
    "out_dir = '../images/class_samples/4/'\n",
    "num_images = 50\n",
    "nl_min = 8\n",
    "nl_max = 8.1\n",
    "locs_list_out = '../images/class_samples/class4_locs.pkl'\n",
    "locs_list = sample_images_in_nl_range(out_dir, num_images, nl_min, nl_max, locs_list_out)"
   ]
  },
  {
   "cell_type": "code",
   "execution_count": 103,
   "metadata": {
    "collapsed": false,
    "scrolled": true
   },
   "outputs": [
    {
     "name": "stdout",
     "output_type": "stream",
     "text": [
      "291.663041822\n",
      "Saved image 1: ../images/class_samples/4/10.jpg\n",
      "  0.463177919388 seconds elapsed\n",
      "221.569365096\n",
      "Saved image 2: ../images/class_samples/4/11.jpg\n",
      "  0.896823883057 seconds elapsed\n",
      "423.035406962\n",
      "Saved image 3: ../images/class_samples/4/12.jpg\n",
      "  1.36849188805 seconds elapsed\n",
      "499.26473837\n",
      "Saved image 4: ../images/class_samples/4/13.jpg\n",
      "  1.8442928791 seconds elapsed\n",
      "317.117874146\n",
      "Saved image 5: ../images/class_samples/4/14.jpg\n",
      "  2.35322189331 seconds elapsed\n",
      "206.699644226\n",
      "Saved image 6: ../images/class_samples/4/15.jpg\n",
      "  2.9017329216 seconds elapsed\n",
      "250.341724133\n",
      "Saved image 7: ../images/class_samples/4/16.jpg\n",
      "  3.40979599953 seconds elapsed\n",
      "249.912527755\n",
      "Saved image 8: ../images/class_samples/4/17.jpg\n",
      "  3.85132789612 seconds elapsed\n",
      "399.412830597\n",
      "Saved image 9: ../images/class_samples/4/18.jpg\n",
      "  4.2501718998 seconds elapsed\n",
      "255.560429278\n",
      "Saved image 10: ../images/class_samples/4/19.jpg\n",
      "  4.6886100769 seconds elapsed\n",
      "312.445915944\n",
      "Saved image 11: ../images/class_samples/4/20.jpg\n",
      "  5.15195798874 seconds elapsed\n",
      "284.986451558\n",
      "Saved image 12: ../images/class_samples/4/21.jpg\n",
      "  5.57849907875 seconds elapsed\n",
      "321.366093362\n",
      "Saved image 13: ../images/class_samples/4/22.jpg\n",
      "  6.04624509811 seconds elapsed\n",
      "382.400938462\n",
      "Saved image 14: ../images/class_samples/4/23.jpg\n",
      "  6.60278391838 seconds elapsed\n",
      "399.866788005\n",
      "Saved image 15: ../images/class_samples/4/24.jpg\n",
      "  7.08262705803 seconds elapsed\n",
      "237.48850164\n",
      "Saved image 16: ../images/class_samples/4/25.jpg\n",
      "  7.56535887718 seconds elapsed\n",
      "228.349803805\n",
      "Saved image 17: ../images/class_samples/4/26.jpg\n",
      "  8.04361200333 seconds elapsed\n",
      "274.724543535\n",
      "Saved image 18: ../images/class_samples/4/27.jpg\n",
      "  8.57952594757 seconds elapsed\n",
      "390.531736935\n",
      "Saved image 19: ../images/class_samples/4/28.jpg\n",
      "  9.00299596786 seconds elapsed\n",
      "250.065795326\n",
      "Saved image 20: ../images/class_samples/4/29.jpg\n",
      "  9.50441908836 seconds elapsed\n",
      "359.250031757\n",
      "Saved image 21: ../images/class_samples/4/30.jpg\n",
      "  9.98847794533 seconds elapsed\n",
      "206.375050507\n",
      "Saved image 22: ../images/class_samples/4/31.jpg\n",
      "  10.480383873 seconds elapsed\n",
      "218.336754539\n",
      "Saved image 23: ../images/class_samples/4/32.jpg\n",
      "  10.995470047 seconds elapsed\n",
      "365.081990221\n",
      "Saved image 24: ../images/class_samples/4/33.jpg\n",
      "  11.4707860947 seconds elapsed\n",
      "360.773224686\n",
      "Saved image 25: ../images/class_samples/4/34.jpg\n",
      "  11.9511499405 seconds elapsed\n",
      "250.119425344\n",
      "Saved image 26: ../images/class_samples/4/35.jpg\n",
      "  12.3601720333 seconds elapsed\n",
      "466.046569918\n",
      "Saved image 27: ../images/class_samples/4/36.jpg\n",
      "  12.847687006 seconds elapsed\n",
      "284.625929129\n",
      "Saved image 28: ../images/class_samples/4/37.jpg\n",
      "  13.300714016 seconds elapsed\n",
      "355.808498444\n",
      "Saved image 29: ../images/class_samples/4/38.jpg\n",
      "  13.8463459015 seconds elapsed\n",
      "277.419906871\n",
      "Saved image 30: ../images/class_samples/4/39.jpg\n",
      "  14.2754530907 seconds elapsed\n",
      "236.416334499\n",
      "Saved image 31: ../images/class_samples/4/40.jpg\n",
      "  14.8095870018 seconds elapsed\n",
      "297.671627985\n",
      "Saved image 32: ../images/class_samples/4/41.jpg\n",
      "  15.2886059284 seconds elapsed\n",
      "490.960563178\n",
      "Saved image 33: ../images/class_samples/4/42.jpg\n",
      "  15.7676420212 seconds elapsed\n",
      "218.248438655\n",
      "Saved image 34: ../images/class_samples/4/43.jpg\n",
      "  16.2629308701 seconds elapsed\n",
      "336.837070853\n",
      "Saved image 35: ../images/class_samples/4/44.jpg\n",
      "  16.7745599747 seconds elapsed\n",
      "275.494539207\n",
      "Saved image 36: ../images/class_samples/4/45.jpg\n",
      "  17.2107720375 seconds elapsed\n",
      "210.281729983\n",
      "Saved image 37: ../images/class_samples/4/46.jpg\n",
      "  17.6168088913 seconds elapsed\n",
      "397.740042308\n",
      "Saved image 38: ../images/class_samples/4/47.jpg\n",
      "  18.1116809845 seconds elapsed\n",
      "218.362483867\n",
      "Saved image 39: ../images/class_samples/4/48.jpg\n",
      "  18.5823750496 seconds elapsed\n",
      "252.725731159\n",
      "Saved image 40: ../images/class_samples/4/49.jpg\n",
      "  19.02520895 seconds elapsed\n",
      "229.996728417\n",
      "Saved image 41: ../images/class_samples/4/50.jpg\n",
      "  19.5307688713 seconds elapsed\n",
      "350.185912478\n",
      "Saved image 42: ../images/class_samples/4/51.jpg\n",
      "  20.0377290249 seconds elapsed\n",
      "224.659711062\n",
      "Saved image 43: ../images/class_samples/4/52.jpg\n",
      "  20.4878020287 seconds elapsed\n",
      "295.512228779\n",
      "Saved image 44: ../images/class_samples/4/53.jpg\n",
      "  20.9850959778 seconds elapsed\n",
      "235.880144834\n",
      "Saved image 45: ../images/class_samples/4/54.jpg\n",
      "  21.5259768963 seconds elapsed\n",
      "259.836718096\n",
      "Saved image 46: ../images/class_samples/4/55.jpg\n",
      "  22.0115320683 seconds elapsed\n",
      "371.068025546\n",
      "Saved image 47: ../images/class_samples/4/56.jpg\n",
      "  22.4328670502 seconds elapsed\n",
      "290.113789465\n",
      "Saved image 48: ../images/class_samples/4/57.jpg\n",
      "  22.8573710918 seconds elapsed\n",
      "341.712488434\n",
      "Saved image 49: ../images/class_samples/4/58.jpg\n",
      "  23.284569025 seconds elapsed\n",
      "208.044831125\n",
      "Saved image 50: ../images/class_samples/4/59.jpg\n",
      "  23.7211909294 seconds elapsed\n",
      "211.322653001\n",
      "Saved image 51: ../images/class_samples/4/60.jpg\n",
      "  24.1651899815 seconds elapsed\n",
      "219.561615518\n",
      "Saved image 52: ../images/class_samples/4/61.jpg\n",
      "  24.6626389027 seconds elapsed\n",
      "253.677132624\n",
      "Saved image 53: ../images/class_samples/4/62.jpg\n",
      "  25.0190908909 seconds elapsed\n",
      "320.345106761\n",
      "Saved image 54: ../images/class_samples/4/63.jpg\n",
      "  25.4704759121 seconds elapsed\n",
      "460.523714005\n",
      "Saved image 55: ../images/class_samples/4/64.jpg\n",
      "  26.0016000271 seconds elapsed\n",
      "326.910110646\n",
      "Saved image 56: ../images/class_samples/4/65.jpg\n",
      "  26.4086830616 seconds elapsed\n",
      "476.268523649\n",
      "Saved image 57: ../images/class_samples/4/66.jpg\n",
      "  26.8304290771 seconds elapsed\n",
      "233.630694367\n",
      "Saved image 58: ../images/class_samples/4/67.jpg\n",
      "  27.3291189671 seconds elapsed\n",
      "436.495299401\n",
      "Saved image 59: ../images/class_samples/4/68.jpg\n",
      "  27.8646070957 seconds elapsed\n",
      "221.803242591\n",
      "Saved image 60: ../images/class_samples/4/69.jpg\n",
      "  28.3479270935 seconds elapsed\n",
      "265.274207144\n",
      "Saved image 61: ../images/class_samples/4/70.jpg\n",
      "  28.8532989025 seconds elapsed\n",
      "246.388764568\n",
      "Saved image 62: ../images/class_samples/4/71.jpg\n",
      "  29.2189919949 seconds elapsed\n",
      "222.158069072\n",
      "Saved image 63: ../images/class_samples/4/72.jpg\n",
      "  29.6417169571 seconds elapsed\n",
      "418.97645062\n",
      "Saved image 64: ../images/class_samples/4/73.jpg\n",
      "  30.1124989986 seconds elapsed\n",
      "482.940839219\n",
      "Saved image 65: ../images/class_samples/4/74.jpg\n",
      "  30.5888009071 seconds elapsed\n",
      "486.231203283\n",
      "Saved image 66: ../images/class_samples/4/75.jpg\n",
      "  31.0516979694 seconds elapsed\n",
      "397.356287577\n",
      "Saved image 67: ../images/class_samples/4/76.jpg\n",
      "  31.4886760712 seconds elapsed\n",
      "209.623976123\n",
      "Saved image 68: ../images/class_samples/4/77.jpg\n",
      "  31.8546159267 seconds elapsed\n",
      "255.630870665\n",
      "Saved image 69: ../images/class_samples/4/78.jpg\n",
      "  32.319163084 seconds elapsed\n",
      "204.321934885\n",
      "Saved image 70: ../images/class_samples/4/79.jpg\n",
      "  32.7907710075 seconds elapsed\n",
      "446.844757667\n",
      "Saved image 71: ../images/class_samples/4/80.jpg\n",
      "  33.3417658806 seconds elapsed\n",
      "251.106374858\n",
      "Saved image 72: ../images/class_samples/4/81.jpg\n",
      "  33.8202590942 seconds elapsed\n",
      "491.811075265\n",
      "Saved image 73: ../images/class_samples/4/82.jpg\n",
      "  34.2664458752 seconds elapsed\n",
      "211.679127161\n",
      "Saved image 74: ../images/class_samples/4/83.jpg\n",
      "  34.7309648991 seconds elapsed\n",
      "227.303183622\n",
      "Saved image 75: ../images/class_samples/4/84.jpg\n",
      "  35.2108130455 seconds elapsed\n",
      "203.460201166\n",
      "Saved image 76: ../images/class_samples/4/85.jpg\n",
      "  35.7339298725 seconds elapsed\n",
      "229.044035267\n",
      "Saved image 77: ../images/class_samples/4/86.jpg\n",
      "  36.2368528843 seconds elapsed\n",
      "310.041489553\n",
      "Saved image 78: ../images/class_samples/4/87.jpg\n",
      "  36.6458699703 seconds elapsed\n",
      "215.700278775\n",
      "Saved image 79: ../images/class_samples/4/88.jpg\n",
      "  37.1402850151 seconds elapsed\n",
      "220.440097864\n",
      "Saved image 80: ../images/class_samples/4/89.jpg\n",
      "  37.7282640934 seconds elapsed\n",
      "239.149804701\n",
      "Saved image 81: ../images/class_samples/4/90.jpg\n",
      "  38.2802929878 seconds elapsed\n",
      "251.302779605\n",
      "Saved image 82: ../images/class_samples/4/91.jpg\n",
      "  38.770608902 seconds elapsed\n",
      "242.128903389\n",
      "Saved image 83: ../images/class_samples/4/92.jpg\n",
      "  39.2861359119 seconds elapsed\n",
      "496.343796535\n",
      "Saved image 84: ../images/class_samples/4/93.jpg\n",
      "  39.725771904 seconds elapsed\n",
      "213.234984262\n",
      "Saved image 85: ../images/class_samples/4/94.jpg\n",
      "  40.1414148808 seconds elapsed\n",
      "445.870435892\n",
      "Saved image 86: ../images/class_samples/4/95.jpg\n",
      "  40.6136310101 seconds elapsed\n",
      "398.504459724\n",
      "Saved image 87: ../images/class_samples/4/96.jpg\n",
      "  41.0675570965 seconds elapsed\n",
      "310.490623829\n",
      "Saved image 88: ../images/class_samples/4/97.jpg\n",
      "  41.5079209805 seconds elapsed\n",
      "375.445533837\n",
      "Saved image 89: ../images/class_samples/4/98.jpg\n",
      "  42.0437569618 seconds elapsed\n",
      "254.895627382\n",
      "244.182819838\n",
      "Saved image 90: ../images/class_samples/4/99.jpg\n",
      "  42.757750988 seconds elapsed\n",
      "220.127159804\n",
      "Saved image 91: ../images/class_samples/4/100.jpg\n",
      "  43.2141010761 seconds elapsed\n",
      "398.588089634\n",
      "Saved image 92: ../images/class_samples/4/101.jpg\n",
      "  43.7031030655 seconds elapsed\n",
      "479.458420817\n",
      "Saved image 93: ../images/class_samples/4/102.jpg\n",
      "  44.1718320847 seconds elapsed\n",
      "266.918978871\n",
      "Saved image 94: ../images/class_samples/4/103.jpg\n",
      "  44.643791914 seconds elapsed\n",
      "204.12359945\n",
      "Saved image 95: ../images/class_samples/4/104.jpg\n",
      "  45.1780688763 seconds elapsed\n",
      "210.586075575\n",
      "Saved image 96: ../images/class_samples/4/105.jpg\n",
      "  45.5724880695 seconds elapsed\n",
      "215.584044815\n",
      "Saved image 97: ../images/class_samples/4/106.jpg\n",
      "  46.0369870663 seconds elapsed\n",
      "341.155980007\n",
      "Saved image 98: ../images/class_samples/4/107.jpg\n",
      "  46.508466959 seconds elapsed\n",
      "235.014360528\n",
      "Saved image 99: ../images/class_samples/4/108.jpg\n",
      "  46.9829659462 seconds elapsed\n",
      "306.23667717\n",
      "Saved image 100: ../images/class_samples/4/109.jpg\n",
      "  47.4773840904 seconds elapsed\n",
      "Saved list of locations: 1284 locations left\n",
      "Saved 100 images in 47.5992250443 seconds\n"
     ]
    }
   ],
   "source": [
    "# Testing getting more samples that name automatically\n",
    "num_images = 100\n",
    "locs_list_in = '../images/class_samples/class4_locs.pkl'\n",
    "locs_list = sample_images_in_nl_range(out_dir, num_images, nl_min, nl_max, locs_list_out, locs_list_in)"
   ]
  },
  {
   "cell_type": "code",
   "execution_count": 81,
   "metadata": {
    "collapsed": false
   },
   "outputs": [
    {
     "name": "stdout",
     "output_type": "stream",
     "text": [
      "[(75.00208333335, -60.00208333335)]\n"
     ]
    }
   ],
   "source": [
    "tile2_tif = '/atlas/u/nj/viirs/2015/1/2/SVDNB_npp_20150101-20150131_75N060W_vcmcfg_v10_c201505111709.avg_rade9.tif'\n",
    "print pixel_to_lat_lon(tile2_tif, [(0,0)])"
   ]
  },
  {
   "cell_type": "code",
   "execution_count": 84,
   "metadata": {
    "collapsed": false
   },
   "outputs": [
    {
     "data": {
      "text/plain": [
       "0.0020833333333333333"
      ]
     },
     "execution_count": 84,
     "metadata": {},
     "output_type": "execute_result"
    }
   ],
   "source": [
    "15.0 / (3600 * 2)"
   ]
  },
  {
   "cell_type": "code",
   "execution_count": 110,
   "metadata": {
    "collapsed": true
   },
   "outputs": [],
   "source": [
    "city_locs = [[0.260476, 32.618356], [2.241587, 32.893572], [30.046946, 31.242460],\n",
    "            [-33.921936, 18.420456]]"
   ]
  },
  {
   "cell_type": "code",
   "execution_count": 106,
   "metadata": {
    "collapsed": true
   },
   "outputs": [],
   "source": [
    "tile2 = np.load('/atlas/u/nj/viirs/2015/data/tile2_obs.npy')\n",
    "tile5 = np.load('/atlas/u/nj/viirs/2015/data/tile5_obs.npy')\n",
    "tile2dir = os.path.abspath('/atlas/u/nj/viirs/2015/12/2/SVDNB_npp_20151201-20151231_75N060W_vcmcfg_v10_c201601251413.avg_rade9.tif')\n",
    "tile5dir = os.path.abspath('/atlas/u/nj/viirs/2015/12/5/SVDNB_npp_20151201-20151231_00N060W_vcmcfg_v10_c201601251413.avg_rade9.tif')"
   ]
  },
  {
   "cell_type": "code",
   "execution_count": 111,
   "metadata": {
    "collapsed": true
   },
   "outputs": [],
   "source": [
    "stuff = lat_lon_to_NL_array_input(city_locs, tile2, tile5, tile2dir, tile5dir)"
   ]
  },
  {
   "cell_type": "code",
   "execution_count": 112,
   "metadata": {
    "collapsed": false
   },
   "outputs": [
    {
     "data": {
      "text/plain": [
       "[[0.260476, 32.618356, 7.3592984162124937],\n",
       " [2.241587, 32.893572, 3.9554009935749121],\n",
       " [30.046946, 31.24246, 111.5779062344883],\n",
       " [-33.921936, 18.420456, 109.48369588669698]]"
      ]
     },
     "execution_count": 112,
     "metadata": {},
     "output_type": "execute_result"
    }
   ],
   "source": [
    "stuff"
   ]
  },
  {
   "cell_type": "code",
   "execution_count": null,
   "metadata": {
    "collapsed": true
   },
   "outputs": [],
   "source": []
  },
  {
   "cell_type": "code",
   "execution_count": null,
   "metadata": {
    "collapsed": true
   },
   "outputs": [],
   "source": [
    "# Load NL values\n",
    "nl_tile2 = np.load('/atlas/u/nj/viirs/2015/data/tile2_obs.npy')\n",
    "nl_tile5 = np.load('/atlas/u/nj/viirs/2015/data/tile5_obs.npy')\n",
    "tile2_tif = '/atlas/u/nj/viirs/2015/1/2/SVDNB_npp_20150101-20150131_75N060W_vcmcfg_v10_c201505111709.avg_rade9.tif'\n",
    "tile5_tif = '/atlas/u/nj/viirs/2015/1/5/SVDNB_npp_20150101-20150131_00N060W_vcmcfg_v10_c201505111709.avg_rade9.tif'"
   ]
  },
  {
   "cell_type": "code",
   "execution_count": 129,
   "metadata": {
    "collapsed": false,
    "scrolled": true
   },
   "outputs": [
    {
     "name": "stdout",
     "output_type": "stream",
     "text": [
      "The history saving thread hit an unexpected error (DatabaseError('database disk image is malformed',)).History will not be written to the database.\n",
      "6198\n",
      "469\n"
     ]
    }
   ],
   "source": [
    "nl_min = 500\n",
    "nl_max = 1000000\n",
    "# Find good locations in tiles (row, col)\n",
    "within_locs2 = (np.logical_and((nl_tile2 >= nl_min), (nl_tile2 < nl_max))).sum()\n",
    "within_locs5 = (np.logical_and((nl_tile5 >= nl_min), (nl_tile5 < nl_max))).sum()\n",
    "print within_locs2\n",
    "print within_locs5"
   ]
  },
  {
   "cell_type": "code",
   "execution_count": 141,
   "metadata": {
    "collapsed": false
   },
   "outputs": [],
   "source": [
    "A = np.load('/atlas/u/nj/viirs/2015/data/africa_nl/africa_nl.npy')"
   ]
  },
  {
   "cell_type": "code",
   "execution_count": 147,
   "metadata": {
    "collapsed": false
   },
   "outputs": [
    {
     "name": "stdout",
     "output_type": "stream",
     "text": [
      "124183151\n"
     ]
    }
   ],
   "source": [
    "num_class1 = (np.logical_and((A >= 0), (A < 8))).sum()\n",
    "print num_class1"
   ]
  },
  {
   "cell_type": "code",
   "execution_count": 148,
   "metadata": {
    "collapsed": false
   },
   "outputs": [
    {
     "name": "stdout",
     "output_type": "stream",
     "text": [
      "307502\n"
     ]
    }
   ],
   "source": [
    "num_class2 = (np.logical_and((A >= 8), (A < 35))).sum()\n",
    "print num_class2"
   ]
  },
  {
   "cell_type": "code",
   "execution_count": 149,
   "metadata": {
    "collapsed": false
   },
   "outputs": [
    {
     "name": "stdout",
     "output_type": "stream",
     "text": [
      "60028\n"
     ]
    }
   ],
   "source": [
    "num_class3 = (np.logical_and((A >= 35), (A < 200))).sum()\n",
    "print num_class3"
   ]
  },
  {
   "cell_type": "code",
   "execution_count": 151,
   "metadata": {
    "collapsed": false
   },
   "outputs": [
    {
     "data": {
      "text/plain": [
       "403.84501889418607"
      ]
     },
     "execution_count": 151,
     "metadata": {},
     "output_type": "execute_result"
    }
   ],
   "source": [
    "float(num_class1) / (num_class2)"
   ]
  },
  {
   "cell_type": "code",
   "execution_count": 152,
   "metadata": {
    "collapsed": true
   },
   "outputs": [],
   "source": [
    "a, b, c = 4, 2, 7"
   ]
  },
  {
   "cell_type": "code",
   "execution_count": 154,
   "metadata": {
    "collapsed": false
   },
   "outputs": [
    {
     "data": {
      "text/plain": [
       "True"
      ]
     },
     "execution_count": 154,
     "metadata": {},
     "output_type": "execute_result"
    }
   ],
   "source": [
    "(a == 4) and (b == 2)"
   ]
  },
  {
   "cell_type": "code",
   "execution_count": 157,
   "metadata": {
    "collapsed": true
   },
   "outputs": [],
   "source": [
    "B = np.load('/atlas/u/nj/viirs/2015/data/tile5_obs.npy')"
   ]
  },
  {
   "cell_type": "code",
   "execution_count": 158,
   "metadata": {
    "collapsed": false
   },
   "outputs": [
    {
     "name": "stdout",
     "output_type": "stream",
     "text": [
      "320258\n"
     ]
    }
   ],
   "source": [
    "num_class2 = (np.logical_and((B >= 8), (B < 35))).sum()\n",
    "print num_class2"
   ]
  },
  {
   "cell_type": "code",
   "execution_count": null,
   "metadata": {
    "collapsed": true
   },
   "outputs": [],
   "source": []
  }
 ],
 "metadata": {
  "kernelspec": {
   "display_name": "Python 2",
   "language": "python",
   "name": "python2"
  },
  "language_info": {
   "codemirror_mode": {
    "name": "ipython",
    "version": 2
   },
   "file_extension": ".py",
   "mimetype": "text/x-python",
   "name": "python",
   "nbconvert_exporter": "python",
   "pygments_lexer": "ipython2",
   "version": "2.7.11"
  }
 },
 "nbformat": 4,
 "nbformat_minor": 0
}
