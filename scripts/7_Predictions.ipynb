{
 "cells": [
  {
   "cell_type": "code",
   "execution_count": 10,
   "metadata": {
    "collapsed": true
   },
   "outputs": [],
   "source": [
    "import numpy as np\n",
    "import os, sys\n",
    "import time"
   ]
  },
  {
   "cell_type": "code",
   "execution_count": 4,
   "metadata": {
    "collapsed": true
   },
   "outputs": [],
   "source": [
    "#CAFFE = '/cvgl/software/opt/caffe/'\n",
    "CAFFE = '/opt/caffe-master/'\n",
    "caffe_python_path = os.path.join(CAFFE, 'python')\n",
    "sys.path.insert(0, caffe_python_path)"
   ]
  },
  {
   "cell_type": "code",
   "execution_count": 5,
   "metadata": {
    "collapsed": false
   },
   "outputs": [],
   "source": [
    "import caffe"
   ]
  },
  {
   "cell_type": "code",
   "execution_count": 6,
   "metadata": {
    "collapsed": true
   },
   "outputs": [],
   "source": [
    "caffe.set_device(0)"
   ]
  },
  {
   "cell_type": "code",
   "execution_count": 133,
   "metadata": {
    "collapsed": true
   },
   "outputs": [],
   "source": [
    "model_file = '/cvgl/u/rsluo/vgg_cnn_f/architectures/VGG_F_trial1_test.prototxt'\n",
    "weights_file = '/cvgl/u/rsluo/vgg_cnn_f/snapshots/VGG_F_trial1__iter_280000.caffemodel'\n",
    "num_examples = 3000\n",
    "batch_size = 32\n",
    "data_layer_name = 'data'\n",
    "end_layer_name = 'pool6'"
   ]
  },
  {
   "cell_type": "code",
   "execution_count": 134,
   "metadata": {
    "collapsed": true
   },
   "outputs": [],
   "source": [
    "net = caffe.Net(model_file, weights_file, caffe.TEST)"
   ]
  },
  {
   "cell_type": "code",
   "execution_count": 135,
   "metadata": {
    "collapsed": true
   },
   "outputs": [],
   "source": [
    "labels = []\n",
    "preds = []"
   ]
  },
  {
   "cell_type": "code",
   "execution_count": 136,
   "metadata": {
    "collapsed": false,
    "scrolled": true
   },
   "outputs": [
    {
     "name": "stdout",
     "output_type": "stream",
     "text": [
      "Iteration 1: 32 examples, 0.000241994857788 seconds\n",
      "Iteration 2: 64 examples, 21.0755531788 seconds\n",
      "Iteration 3: 96 examples, 40.4971630573 seconds\n",
      "Iteration 4: 128 examples, 59.9510710239 seconds\n",
      "Iteration 5: 160 examples, 80.400635004 seconds\n",
      "Iteration 6: 192 examples, 99.5510439873 seconds\n",
      "Iteration 7: 224 examples, 118.482439041 seconds\n",
      "Iteration 8: 256 examples, 137.497596025 seconds\n",
      "Iteration 9: 288 examples, 156.532611132 seconds\n",
      "Iteration 10: 320 examples, 175.536591053 seconds\n",
      "Iteration 11: 352 examples, 195.285148144 seconds\n",
      "Iteration 12: 384 examples, 214.414114952 seconds\n",
      "Iteration 13: 416 examples, 233.358546019 seconds\n",
      "Iteration 14: 448 examples, 252.538581133 seconds\n",
      "Iteration 15: 480 examples, 271.923835993 seconds\n",
      "Iteration 16: 512 examples, 291.425678015 seconds\n",
      "Iteration 17: 544 examples, 310.492506027 seconds\n",
      "Iteration 18: 576 examples, 329.737177134 seconds\n",
      "Iteration 19: 608 examples, 348.756217957 seconds\n",
      "Iteration 20: 640 examples, 367.896639109 seconds\n",
      "Iteration 21: 672 examples, 386.920379162 seconds\n",
      "Iteration 22: 704 examples, 405.73480916 seconds\n",
      "Iteration 23: 736 examples, 425.628041029 seconds\n",
      "Iteration 24: 768 examples, 444.425351143 seconds\n",
      "Iteration 25: 800 examples, 463.215183973 seconds\n",
      "Iteration 26: 832 examples, 481.960911989 seconds\n",
      "Iteration 27: 864 examples, 500.75612402 seconds\n",
      "Iteration 28: 896 examples, 519.503743172 seconds\n",
      "Iteration 29: 928 examples, 538.331788063 seconds\n",
      "Iteration 30: 960 examples, 557.148509026 seconds\n",
      "Iteration 31: 992 examples, 576.016818047 seconds\n",
      "Iteration 32: 1024 examples, 594.9288311 seconds\n",
      "Iteration 33: 1056 examples, 613.743019104 seconds\n",
      "Iteration 34: 1088 examples, 632.698068142 seconds\n",
      "Iteration 35: 1120 examples, 651.715722084 seconds\n",
      "Iteration 36: 1152 examples, 670.745766163 seconds\n",
      "Iteration 37: 1184 examples, 690.07269001 seconds\n",
      "Iteration 38: 1216 examples, 708.958338022 seconds\n",
      "Iteration 39: 1248 examples, 727.796863079 seconds\n",
      "Iteration 40: 1280 examples, 746.727447033 seconds\n",
      "Iteration 41: 1312 examples, 765.573672056 seconds\n",
      "Iteration 42: 1344 examples, 784.564028025 seconds\n",
      "Iteration 43: 1376 examples, 803.468286991 seconds\n",
      "Iteration 44: 1408 examples, 822.347535133 seconds\n",
      "Iteration 45: 1440 examples, 841.262992144 seconds\n",
      "Iteration 46: 1472 examples, 860.108560085 seconds\n",
      "Iteration 47: 1504 examples, 879.51582408 seconds\n",
      "Iteration 48: 1536 examples, 898.446768999 seconds\n",
      "Iteration 49: 1568 examples, 917.378362179 seconds\n",
      "Iteration 50: 1600 examples, 936.234441042 seconds\n",
      "Iteration 51: 1632 examples, 955.068766117 seconds\n",
      "Iteration 52: 1664 examples, 973.832553148 seconds\n",
      "Iteration 53: 1696 examples, 992.607119083 seconds\n",
      "Iteration 54: 1728 examples, 1011.3198061 seconds\n",
      "Iteration 55: 1760 examples, 1030.14875603 seconds\n",
      "Iteration 56: 1792 examples, 1050.39732909 seconds\n",
      "Iteration 57: 1824 examples, 1069.31739807 seconds\n",
      "Iteration 58: 1856 examples, 1088.26376605 seconds\n",
      "Iteration 59: 1888 examples, 1107.01067209 seconds\n",
      "Iteration 60: 1920 examples, 1125.75876808 seconds\n",
      "Iteration 61: 1952 examples, 1144.62523699 seconds\n",
      "Iteration 62: 1984 examples, 1163.40233016 seconds\n",
      "Iteration 63: 2016 examples, 1182.1383121 seconds\n",
      "Iteration 64: 2048 examples, 1200.73818707 seconds\n",
      "Iteration 65: 2080 examples, 1219.28638196 seconds\n",
      "Iteration 66: 2112 examples, 1237.88757801 seconds\n",
      "Iteration 67: 2144 examples, 1256.46109414 seconds\n",
      "Iteration 68: 2176 examples, 1274.98668098 seconds\n",
      "Iteration 69: 2208 examples, 1293.54967713 seconds\n",
      "Iteration 70: 2240 examples, 1312.10648108 seconds\n",
      "Iteration 71: 2272 examples, 1330.69175005 seconds\n",
      "Iteration 72: 2304 examples, 1349.25697899 seconds\n",
      "Iteration 73: 2336 examples, 1367.87916017 seconds\n",
      "Iteration 74: 2368 examples, 1386.61395907 seconds\n",
      "Iteration 75: 2400 examples, 1405.19355512 seconds\n",
      "Iteration 76: 2432 examples, 1423.96983218 seconds\n",
      "Iteration 77: 2464 examples, 1442.70576596 seconds\n",
      "Iteration 78: 2496 examples, 1461.88828206 seconds\n",
      "Iteration 79: 2528 examples, 1481.04263115 seconds\n",
      "Iteration 80: 2560 examples, 1500.009552 seconds\n",
      "Iteration 81: 2592 examples, 1518.66674018 seconds\n",
      "Iteration 82: 2624 examples, 1537.45637918 seconds\n",
      "Iteration 83: 2656 examples, 1556.20563912 seconds\n",
      "Iteration 84: 2688 examples, 1575.02535796 seconds\n",
      "Iteration 85: 2720 examples, 1593.95492601 seconds\n",
      "Iteration 86: 2752 examples, 1612.82504511 seconds\n",
      "Iteration 87: 2784 examples, 1631.61568213 seconds\n",
      "Iteration 88: 2816 examples, 1650.47803497 seconds\n",
      "Iteration 89: 2848 examples, 1669.19534516 seconds\n",
      "Iteration 90: 2880 examples, 1687.92348003 seconds\n",
      "Iteration 91: 2912 examples, 1706.85517812 seconds\n",
      "Iteration 92: 2944 examples, 1725.41449618 seconds\n",
      "Iteration 93: 2976 examples, 1744.32173514 seconds\n",
      "Iteration 94: 3008 examples, 1763.00616503 seconds\n"
     ]
    }
   ],
   "source": [
    "iterations = 0\n",
    "t0 = time.time()\n",
    "while len(preds) < num_examples:\n",
    "    iterations += 1\n",
    "    t1 = time.time()\n",
    "    print 'Iteration {}: {} examples, {} seconds'.format(iterations, iterations * batch_size, t1-t0)\n",
    "    # Get prediction for test example\n",
    "    net.forward(end=end_layer_name)\n",
    "    preds += list(net.blobs[end_layer_name].data.squeeze().argmax(axis=1))\n",
    "    # Get label for test example\n",
    "    labels += list(caffe.io.blobproto_to_array(net.blobs['label']).squeeze())"
   ]
  },
  {
   "cell_type": "code",
   "execution_count": 141,
   "metadata": {
    "collapsed": true
   },
   "outputs": [],
   "source": [
    "labels = labels[:3000]\n",
    "preds = preds[:3000]"
   ]
  },
  {
   "cell_type": "code",
   "execution_count": 142,
   "metadata": {
    "collapsed": false,
    "scrolled": true
   },
   "outputs": [
    {
     "name": "stdout",
     "output_type": "stream",
     "text": [
      "Total predictions: 3000\n",
      "Number correct: 2055\n"
     ]
    }
   ],
   "source": [
    "correct = 0\n",
    "print 'Total predictions: {}'.format(len(preds))\n",
    "for i in xrange(len(labels)):\n",
    "    #print 'True: {}, Predicted: {}'.format(labels[i], preds[i])\n",
    "    if int(labels[i]) == int(preds[i]):\n",
    "        correct += 1\n",
    "print 'Number correct: {}'.format(correct)"
   ]
  },
  {
   "cell_type": "markdown",
   "metadata": {},
   "source": [
    "#### Plot confusion matrix"
   ]
  },
  {
   "cell_type": "code",
   "execution_count": 100,
   "metadata": {
    "collapsed": true
   },
   "outputs": [],
   "source": [
    "import matplotlib.pyplot as plt\n",
    "%matplotlib inline\n",
    "\n",
    "from sklearn.metrics import confusion_matrix"
   ]
  },
  {
   "cell_type": "code",
   "execution_count": 157,
   "metadata": {
    "collapsed": true
   },
   "outputs": [],
   "source": [
    "def plot_confusion_matrix(cm, title='Confusion matrix', cmap=plt.cm.Blues):\n",
    "    plt.figure()\n",
    "    plt.imshow(cm, interpolation='nearest', cmap=cmap)\n",
    "    plt.title(title)\n",
    "    plt.colorbar()\n",
    "    tick_marks = [0, 1, 2]\n",
    "    plt.xticks(tick_marks, ['low', 'med', 'high'], rotation=45)\n",
    "    plt.yticks(tick_marks, ['low', 'medium', 'high'])\n",
    "    plt.ylabel('True nightlight class')\n",
    "    plt.xlabel('Predicted nightlight class')\n",
    "    plt.tight_layout()\n",
    "    plt.savefig('../plots/confusion_matrix.png', format='png')\n",
    "    plt.show()"
   ]
  },
  {
   "cell_type": "code",
   "execution_count": 158,
   "metadata": {
    "collapsed": false
   },
   "outputs": [
    {
     "name": "stdout",
     "output_type": "stream",
     "text": [
      "Confusion matrix, without normalization:\n",
      "[[917  44   4]\n",
      " [278 531 230]\n",
      " [152 237 607]]\n"
     ]
    },
    {
     "data": {
      "image/png": "[encoded data removed]",
      "text/plain": [
       "<matplotlib.figure.Figure at 0x7f74db055b10>"
      ]
     },
     "metadata": {},
     "output_type": "display_data"
    }
   ],
   "source": [
    "# Plot confusion matrix\n",
    "cm = confusion_matrix(labels, preds)\n",
    "np.set_printoptions(precision=2)\n",
    "print 'Confusion matrix, without normalization:'\n",
    "print cm\n",
    "plot_confusion_matrix(cm)"
   ]
  },
  {
   "cell_type": "code",
   "execution_count": 159,
   "metadata": {
    "collapsed": false
   },
   "outputs": [
    {
     "name": "stdout",
     "output_type": "stream",
     "text": [
      "Normalized confusion matrix\n",
      "[[ 0.95  0.05  0.  ]\n",
      " [ 0.27  0.51  0.22]\n",
      " [ 0.15  0.24  0.61]]\n"
     ]
    },
    {
     "data": {
      "image/png": "[encoded data removed]",
      "text/plain": [
       "<matplotlib.figure.Figure at 0x7f74dae98710>"
      ]
     },
     "metadata": {},
     "output_type": "display_data"
    }
   ],
   "source": [
    "# Normalize the confusion matrix by row (i.e by the number of samples in each class)\n",
    "cm_normalized = cm.astype('float') / cm.sum(axis=1)[:, np.newaxis]\n",
    "print('Normalized confusion matrix')\n",
    "print(cm_normalized)\n",
    "plot_confusion_matrix(cm_normalized, title='Normalized confusion matrix')"
   ]
  },
  {
   "cell_type": "code",
   "execution_count": null,
   "metadata": {
    "collapsed": true
   },
   "outputs": [],
   "source": []
  },
  {
   "cell_type": "code",
   "execution_count": null,
   "metadata": {
    "collapsed": true
   },
   "outputs": [],
   "source": []
  }
 ],
 "metadata": {
  "kernelspec": {
   "display_name": "Python 2",
   "language": "python",
   "name": "python2"
  },
  "language_info": {
   "codemirror_mode": {
    "name": "ipython",
    "version": 2
   },
   "file_extension": ".py",
   "mimetype": "text/x-python",
   "name": "python",
   "nbconvert_exporter": "python",
   "pygments_lexer": "ipython2",
   "version": "2.7.6"
  }
 },
 "nbformat": 4,
 "nbformat_minor": 0
}
